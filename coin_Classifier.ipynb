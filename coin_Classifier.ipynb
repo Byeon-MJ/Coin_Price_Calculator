{
 "cells": [
  {
   "cell_type": "code",
   "execution_count": 1,
   "id": "42f6aee3",
   "metadata": {},
   "outputs": [],
   "source": [
    "import tensorflow as tf\n",
    "import torch"
   ]
  },
  {
   "cell_type": "code",
   "execution_count": 2,
   "id": "3ed03812",
   "metadata": {},
   "outputs": [
    {
     "data": {
      "text/plain": [
       "[name: \"/device:CPU:0\"\n",
       " device_type: \"CPU\"\n",
       " memory_limit: 268435456\n",
       " locality {\n",
       " }\n",
       " incarnation: 3516773739793115115\n",
       " xla_global_id: -1,\n",
       " name: \"/device:GPU:0\"\n",
       " device_type: \"GPU\"\n",
       " memory_limit: 5719982080\n",
       " locality {\n",
       "   bus_id: 1\n",
       "   links {\n",
       "   }\n",
       " }\n",
       " incarnation: 3195059541752801761\n",
       " physical_device_desc: \"device: 0, name: NVIDIA GeForce RTX 3070, pci bus id: 0000:2b:00.0, compute capability: 8.6\"\n",
       " xla_global_id: 416903419]"
      ]
     },
     "execution_count": 2,
     "metadata": {},
     "output_type": "execute_result"
    }
   ],
   "source": [
    "from tensorflow.python.client import device_lib\n",
    "device_lib.list_local_devices()"
   ]
  },
  {
   "cell_type": "code",
   "execution_count": 3,
   "id": "8844bd53",
   "metadata": {},
   "outputs": [
    {
     "name": "stdout",
     "output_type": "stream",
     "text": [
      "True\n"
     ]
    }
   ],
   "source": [
    "# GPU 사용 가능 -> True, GPU 사용 불가 -> False\n",
    "print(torch.cuda.is_available())"
   ]
  },
  {
   "cell_type": "code",
   "execution_count": 4,
   "id": "e90593f7",
   "metadata": {},
   "outputs": [
    {
     "name": "stdout",
     "output_type": "stream",
     "text": [
      "1\n"
     ]
    }
   ],
   "source": [
    "# 사용 가능 GPU 개수 체크\n",
    "print(torch.cuda.device_count())"
   ]
  },
  {
   "cell_type": "markdown",
   "id": "e6d08c13",
   "metadata": {},
   "source": [
    "# Template"
   ]
  },
  {
   "cell_type": "code",
   "execution_count": null,
   "id": "e0a94b09",
   "metadata": {},
   "outputs": [],
   "source": [
    "import os\n",
    "\n",
    "import matplotlib.pyplot as plt\n",
    "import numpy as np\n",
    "\n",
    "from tensorflow import keras\n",
    "from tensorflow.keras import optimizers\n",
    "from tensorflow.keras import models\n",
    "from tensorflow.keras import layers\n",
    "from tensorflow.keras import optimizers\n",
    "from tensorflow.keras import Sequential\n",
    "from tensorflow.keras.layers import Dropout, Flatten, Dense, BatchNormalization\n",
    "from tensorflow.keras import Model\n",
    "from tensorflow.keras.preprocessing.image import ImageDataGenerator\n",
    "from tensorflow.keras.preprocessing.image import load_img\n",
    "from tensorflow.keras.preprocessing.image import img_to_array\n",
    "\n",
    "from tensorflow.keras.applications import efficientnet\n",
    "from tensorflow.keras.applications import EfficientNetB2\n",
    "\n",
    "preprocessor = efficientnet.preprocess_input\n",
    "\n",
    "conv_layers = EfficientNetB2(weights='imagenet', include_top=False, input_shape=(224, 224, 3))\n",
    "conv_layers.trainable = False\n",
    "\n",
    "model = keras.Sequential()\n",
    "\n",
    "model.add(conv_layers)\n",
    "model.add(Flatten())\n",
    "model.add(Dense(256, activation='relu'))\n",
    "model.add(BatchNormalization())\n",
    "model.add(Dense(10, activation='softmax'))\n",
    "\n",
    "model.compile(loss='sparse_categorical_crossentropy', optimizer=\"RMSprop\", metrics=['acc'])\n",
    "model.summary()\n",
    "\n",
    "BATCH_SIZE = 64\n",
    "\n",
    "train_data_generator = ImageDataGenerator(\n",
    "      rotation_range=10,\n",
    "      width_shift_range=0.1,\n",
    "      height_shift_range=0.1,\n",
    "      horizontal_flip=True,\n",
    "      vertical_flip=False,\n",
    "      preprocessing_function=preprocessor\n",
    ").flow_from_directory(\n",
    "      \"dogs_prepared/train\",\n",
    "      target_size=(224,224),\n",
    "      batch_size=BATCH_SIZE,\n",
    "      class_mode='sparse'\n",
    ")\n",
    "\n",
    "test_data_generator = ImageDataGenerator(\n",
    "      preprocessing_function=preprocessor\n",
    ").flow_from_directory(\n",
    "      \"dogs_prepared/test\",\n",
    "      target_size=(224,224),\n",
    "      batch_size=BATCH_SIZE,\n",
    "      class_mode='sparse'\n",
    ")\n",
    "\n",
    "\n",
    "history = model.fit(\n",
    "      train_data_generator,\n",
    "      validation_data=test_data_generator,\n",
    "      epochs=10\n",
    ")\n",
    "\n",
    "\n",
    "plt.plot(history.history['loss'])\n",
    "plt.plot(history.history['val_loss'])\n",
    "plt.show()\n",
    "\n",
    "\n",
    "loss, acc = model.evaluate(test_data_generator)\n",
    "print(\"loss=\", loss)\n",
    "print(\"acc=\", acc)\n",
    "\n",
    "\n",
    "\n",
    "batch_x, batch_y = test_data_generator.next()\n",
    "y_ = model.predict(batch_x)\n",
    "predicted = np.argmax(y_, axis=-1)\n",
    "\n",
    "plt.plot(batch_y[:100], \"o\")\n",
    "plt.plot(predicted[:100], '.')\n",
    "plt.show()\n",
    "\n",
    "\n",
    "custom_labels = list(test_data_generator.class_indices.keys())\n",
    "print(\"label category index =\", batch_y[0])\n",
    "print(\"predicted category index =\", predicted[0])\n",
    "print(\"predicted category name =\", custom_labels[predicted[0]])"
   ]
  }
 ],
 "metadata": {
  "kernelspec": {
   "display_name": "Python 3 (ipykernel)",
   "language": "python",
   "name": "python3"
  },
  "language_info": {
   "codemirror_mode": {
    "name": "ipython",
    "version": 3
   },
   "file_extension": ".py",
   "mimetype": "text/x-python",
   "name": "python",
   "nbconvert_exporter": "python",
   "pygments_lexer": "ipython3",
   "version": "3.8.5"
  }
 },
 "nbformat": 4,
 "nbformat_minor": 5
}
